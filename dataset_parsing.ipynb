{
  "cells": [
    {
      "cell_type": "code",
      "execution_count": 1,
      "metadata": {
        "id": "0XcltJJqTchS"
      },
      "outputs": [],
      "source": [
        "import json\n",
        "\n",
        "file = open(\"dataset/personachat_truecased_train.json\")"
      ]
    },
    {
      "cell_type": "code",
      "execution_count": 2,
      "metadata": {},
      "outputs": [],
      "source": [
        "parser = json.loads(file.read())\n",
        "file.close()"
      ]
    },
    {
      "cell_type": "code",
      "execution_count": 5,
      "metadata": {},
      "outputs": [
        {
          "name": "stdout",
          "output_type": "stream",
          "text": [
            "['I like to remodel homes.', 'I like to go hunting.', 'I like to shoot a bow.', 'My favorite holiday is halloween.']\n",
            "['Not really, it is just a small local radio station. What about you, what do you do?', 'Me too! People always say I am so organized.', 'Niagra fall is where our honeymoon will be.', 'Yes! I know how to be by myself. You? I do not need new friends. You?', 'Ll. my dad is a police officer and they have a sports team too.', 'Oh you should get your license.', 'Okay you have a good day nice talking with you!', 'I play some ball for a living.', 'Me too! My asthma is really embarrassing and makes me uncomfortable around others.', 'Netflix and good food is the best. Maybe lobster, my favorite seafood. Where ya from?', 'Oh nice. Why is that?', 'Sounds fun! I helped my wife with health issues, too.', \"I am a night owl. I think I'll play the piano a little before bed.\", 'Just the real ones, not a big game person.', \"I could be the next mrs. Adam Levine. Please, I'll buy you 10 mangoes.\", \"Do you like dogs I've usually to talk.\", 'What did she teach? My mom stayed home with my and my 3 older siblings.', 'Neither do I, I am just a photographer, and that is already a ot of energy.', 'No, I say I am average at 5 4. are you vertically challenged?', 'What is your favorite meat to eat?']\n",
            "What is your favorite meat to eat?\n",
            "20\n",
            "Final conversation\n",
            "Hi, how are you doing? I'm getting ready to do some cheetah chasing to stay in shape.\n",
            "You must be very fast. Hunting is one of my favorite hobbies.\n",
            "I am! For my hobby I like to do canning or some whittling.\n",
            "I also remodel homes when I am not out bow hunting.\n",
            "That's neat. When I was in high school I placed 6th in 100m dash!\n",
            "That's awesome. Do you have a favorite season or time of year?\n",
            "I do not. But I do have a favorite meat since that is all I eat exclusively.\n",
            "What is your favorite meat to eat?\n",
            "I would have to say its prime rib. Do you have any favorite foods?\n",
            "I like chicken or macaroni and cheese.\n",
            "Do you have anything planned for today? I think I am going to do some canning.\n",
            "I am going to watch football. What are you canning?\n",
            "I think I will can some jam. Do you also play footfall for fun?\n"
          ]
        }
      ],
      "source": [
        "personality = parser[0]['personality'] # personality\n",
        "# Each parser[i] is a full conversation with each different person (with different personality information)\n",
        "print(personality)\n",
        "candidates = parser[0]['utterances'][3]['candidates'] # possible utterances (idx 19 best one)\n",
        "best_answer = candidates[19] \n",
        "print(candidates)\n",
        "print(best_answer)\n",
        "print(len(candidates))\n",
        "\n",
        "print(\"Final conversation\")\n",
        "for msg in parser[0]['utterances'][-1]['history']: # Final conversation\n",
        "    print(msg)"
      ]
    }
  ],
  "metadata": {
    "colab": {
      "provenance": []
    },
    "kernelspec": {
      "display_name": "Python 3",
      "name": "python3"
    },
    "language_info": {
      "codemirror_mode": {
        "name": "ipython",
        "version": 3
      },
      "file_extension": ".py",
      "mimetype": "text/x-python",
      "name": "python",
      "nbconvert_exporter": "python",
      "pygments_lexer": "ipython3",
      "version": "3.10.1"
    }
  },
  "nbformat": 4,
  "nbformat_minor": 0
}
