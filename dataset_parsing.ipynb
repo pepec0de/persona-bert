{
  "cells": [
    {
      "cell_type": "code",
      "execution_count": 1,
      "metadata": {
        "id": "0XcltJJqTchS"
      },
      "outputs": [],
      "source": [
        "import json\n",
        "\n",
        "file = open(\"dataset/personachat_truecased_train.json\")"
      ]
    },
    {
      "cell_type": "code",
      "execution_count": 2,
      "metadata": {},
      "outputs": [],
      "source": [
        "parser = json.loads(file.read())\n",
        "file.close()"
      ]
    },
    {
      "cell_type": "code",
      "execution_count": 10,
      "metadata": {},
      "outputs": [
        {
          "name": "stdout",
          "output_type": "stream",
          "text": [
            "['My mom is my best friend.', 'I have four sisters.', 'I believe that mermaids are real.', 'I love iced tea.']\n",
            "[\"Hi there, I'm Bob.\", 'I know a bit about food. My folks have a small grocery.', \"Hey, that's life. What about you, what do you do?\", 'I like that too. If I win the lottery, I could go anywhere!', 'What do you do for fun?', \"No not me, I don't like to show out, like driving a mercedes. Kidding.\", \"Yeah it relaxes me when I'm stressed out.\", 'I left my Chevy duramax running while at american eagle. Sale!', \"Yes, you'll treat when I fall sick.\", 'How do you do that?', \"Good comparison!! That's actually a flattering comparison for me.\", 'Now I do it like a nerd.', \"I'm with you there for sure.\", 'Girls are gross boys rule.', \"Cute! My father owns bees as pets, but I'm allergic to them.\", 'Congrats! Nothing that great in my life.', \"I'm very healthy I live in a farm, what is wrong with your health?\", 'How come? Conserving energy? Whats going on.', \"It is so late but that's cool I bet they look nice.\", \"That's cool my mom does the same thing.\"]\n",
            "That's cool my mom does the same thing.\n"
          ]
        },
        {
          "data": {
            "text/plain": [
              "20"
            ]
          },
          "execution_count": 10,
          "metadata": {},
          "output_type": "execute_result"
        }
      ],
      "source": [
        "personality = parser[1]['personality'] # personality\n",
        "# Each parser[i] is a full conversation with each different person (with different personality information)\n",
        "print(personality)\n",
        "candidates = parser[1]['utterances'][3]['candidates'] # possible utterances (idx 19 best one)\n",
        "best_answer = candidates[19] \n",
        "print(candidates)\n",
        "print(best_answer)\n",
        "parser[1]['utterances'][-1]['history'] # Final conversation\n",
        "len(candidates)"
      ]
    }
  ],
  "metadata": {
    "colab": {
      "provenance": []
    },
    "kernelspec": {
      "display_name": "Python 3",
      "name": "python3"
    },
    "language_info": {
      "codemirror_mode": {
        "name": "ipython",
        "version": 3
      },
      "file_extension": ".py",
      "mimetype": "text/x-python",
      "name": "python",
      "nbconvert_exporter": "python",
      "pygments_lexer": "ipython3",
      "version": "3.10.1"
    }
  },
  "nbformat": 4,
  "nbformat_minor": 0
}
